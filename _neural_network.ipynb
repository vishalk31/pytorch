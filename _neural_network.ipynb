{
  "nbformat": 4,
  "nbformat_minor": 0,
  "metadata": {
    "colab": {
      "provenance": [],
      "authorship_tag": "ABX9TyP/QFiLeVojswsX2BfLacQi",
      "include_colab_link": true
    },
    "kernelspec": {
      "name": "python3",
      "display_name": "Python 3"
    },
    "language_info": {
      "name": "python"
    }
  },
  "cells": [
    {
      "cell_type": "markdown",
      "metadata": {
        "id": "view-in-github",
        "colab_type": "text"
      },
      "source": [
        "<a href=\"https://colab.research.google.com/github/vishalk31/pytorch/blob/main/_neural_network.ipynb\" target=\"_parent\"><img src=\"https://colab.research.google.com/assets/colab-badge.svg\" alt=\"Open In Colab\"/></a>"
      ]
    },
    {
      "cell_type": "code",
      "execution_count": 1,
      "metadata": {
        "colab": {
          "base_uri": "https://localhost:8080/"
        },
        "id": "MWM4DL5Jp120",
        "outputId": "13d60cbc-a2bf-4fcd-fb27-bb6cd756a5c4"
      },
      "outputs": [
        {
          "output_type": "stream",
          "name": "stdout",
          "text": [
            "2.6.0+cu124\n"
          ]
        }
      ],
      "source": [
        "import torch\n",
        "print(torch.__version__)"
      ]
    },
    {
      "cell_type": "code",
      "source": [
        "import torch\n",
        "import torch.optim as optim\n",
        "import torch.nn as nn"
      ],
      "metadata": {
        "id": "iPcOq1o9qHBb"
      },
      "execution_count": 2,
      "outputs": []
    },
    {
      "cell_type": "code",
      "source": [
        "input = torch.tensor([[1],[2],[3],[4]],dtype=torch.float32)\n",
        "output = torch.tensor([[3],[5],[7],[9]],dtype=torch.float32)"
      ],
      "metadata": {
        "id": "cSxDUkH8uMkX"
      },
      "execution_count": 4,
      "outputs": []
    },
    {
      "cell_type": "code",
      "source": [
        "model = nn.Sequential(\n",
        "    nn.Linear(1,1)\n",
        ")"
      ],
      "metadata": {
        "id": "KWpTRtrIvUHm"
      },
      "execution_count": 7,
      "outputs": []
    },
    {
      "cell_type": "code",
      "source": [
        "criterion = optim.Adam(model.parameters(),lr=0.01)\n",
        "loss_function = nn.MSELoss()"
      ],
      "metadata": {
        "id": "NssRxCWsu4Bz"
      },
      "execution_count": 10,
      "outputs": []
    },
    {
      "cell_type": "code",
      "source": [
        "for _ in range(1000):\n",
        "  criterion.zero_grad()\n",
        "  predicted = model(input)\n",
        "  loss = loss_function(predicted,output)\n",
        "  print(loss)\n",
        "  loss.backward()\n",
        "  criterion.step()"
      ],
      "metadata": {
        "id": "_60ShePOvdg-"
      },
      "execution_count": null,
      "outputs": []
    },
    {
      "cell_type": "code",
      "source": [
        "with torch.no_grad():\n",
        "    prediction = model(torch.tensor([[10.0]], dtype=torch.float32))\n",
        "    print(prediction)"
      ],
      "metadata": {
        "colab": {
          "base_uri": "https://localhost:8080/"
        },
        "id": "j6tma-pKwa0t",
        "outputId": "5cc319b8-9db4-445d-dc94-1a9263922132"
      },
      "execution_count": 17,
      "outputs": [
        {
          "output_type": "stream",
          "name": "stdout",
          "text": [
            "tensor([[20.9019]])\n"
          ]
        }
      ]
    },
    {
      "cell_type": "code",
      "source": [
        "# Access the first (and only) layer in the sequential model\n",
        "layer = model[0]\n",
        "# Get weights and bias\n",
        "weights = layer.weight.data.numpy()\n",
        "bias = layer.bias.data.numpy()\n",
        "print(\"Weights:\", weights)\n",
        "print(\"Bias:\", bias)"
      ],
      "metadata": {
        "colab": {
          "base_uri": "https://localhost:8080/"
        },
        "id": "HBcWN7DvwouR",
        "outputId": "6a8cfe1e-542b-46ef-941d-dfb6df467007"
      },
      "execution_count": 18,
      "outputs": [
        {
          "output_type": "stream",
          "name": "stdout",
          "text": [
            "Weights: [[1.9862734]]\n",
            "Bias: [1.0391934]\n"
          ]
        }
      ]
    },
    {
      "cell_type": "code",
      "source": [],
      "metadata": {
        "id": "6buAcGeOzhkr"
      },
      "execution_count": null,
      "outputs": []
    }
  ]
}